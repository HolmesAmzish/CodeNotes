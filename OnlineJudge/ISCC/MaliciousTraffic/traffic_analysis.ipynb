{
 "cells": [
  {
   "cell_type": "markdown",
   "metadata": {},
   "source": [
    "# 网络流量恶意攻击检测分析"
   ]
  },
  {
   "cell_type": "markdown",
   "metadata": {},
   "source": [
    "## 1. 数据加载与探索分析"
   ]
  },
  {
   "cell_type": "code",
   "execution_count": null,
   "metadata": {},
   "outputs": [],
   "source": [
    "import pandas as pd\n",
    "import numpy as np\n",
    "import matplotlib.pyplot as plt\n",
    "import seaborn as sns\n",
    "\n",
    "# 加载数据\n",
    "df = pd.read_csv('data/sample_data.csv')\n",
    "print(f\"数据形状: {df.shape}\")\n",
    "df.head()"
   ]
  },
  {
   "cell_type": "markdown",
   "metadata": {},
   "source": [
    "### 数据概览"
   ]
  },
  {
   "cell_type": "code",
   "execution_count": null,
   "metadata": {},
   "outputs": [],
   "source": [
    "df.info()"
   ]
  },
  {
   "cell_type": "markdown",
   "metadata": {},
   "source": [
    "### 数值特征统计"
   ]
  },
  {
   "cell_type": "code",
   "execution_count": null,
   "metadata": {},
   "outputs": [],
   "source": [
    "df.describe()"
   ]
  },
  {
   "cell_type": "markdown",
   "metadata": {},
   "source": [
    "### 类别特征统计"
   ]
  },
  {
   "cell_type": "code",
   "execution_count": null,
   "metadata": {},
   "outputs": [],
   "source": [
    "cat_cols = df.select_dtypes(include=['object']).columns\n",
    "for col in cat_cols:\n",
    "    print(f\"\\n{col}分布:\")\n",
    "    print(df[col].value_counts())"
   ]
  },
  {
   "cell_type": "markdown",
   "metadata": {},
   "source": [
    "### 标签分布"
   ]
  },
  {
   "cell_type": "code",
   "execution_count": null,
   "metadata": {},
   "outputs": [],
   "source": [
    "plt.figure(figsize=(10,6))\n",
    "sns.countplot(data=df, y='attack_cat', order=df['attack_cat'].value_counts().index)\n",
    "plt.title('攻击类别分布')\n",
    "plt.show()"
   ]
  },
  {
   "cell_type": "markdown",
   "metadata": {},
   "source": [
    "## 2. 数据预处理"
   ]
  },
  {
   "cell_type": "code",
   "execution_count": null,
   "metadata": {},
   "outputs": [],
   "source": [
    "from sklearn.model_selection import train_test_split\n",
    "\n",
    "# 分离特征和标签\n",
    "X = df.drop('attack_cat', axis=1)\n",
    "y = df['attack_cat']\n",
    "\n",
    "# 划分训练测试集\n",
    "X_train, X_test, y_train, y_test = train_test_split(\n",
    "    X, y, test_size=0.2, random_state=42, stratify=y)\n",
    "\n",
    "print(f\"训练集大小: {X_train.shape}\")\n",
    "print(f\"测试集大小: {X_test.shape}\")"
   ]
  },
  {
   "cell_type": "markdown",
   "metadata": {},
   "source": [
    "## 3. 特征工程"
   ]
  },
  {
   "cell_type": "code",
   "execution_count": null,
   "metadata": {},
   "outputs": [],
   "source": [
    "from sklearn.preprocessing import StandardScaler, OneHotEncoder\n",
    "from sklearn.compose import ColumnTransformer\n",
    "from sklearn.pipeline import Pipeline\n",
    "\n",
    "# 数值特征\n",
    "numeric_features = ['dur', 'spkts', 'dpkts', 'sbytes', 'dbytes', 'rate', \n",
    "                   'sttl', 'dttl', 'sload', 'dload', 'sloss', 'dloss',\n",
    "                   'sinpkt', 'dinpkt', 'sjit', 'djit', 'swin', 'stcpb',\n",
    "                   'dtcpb', 'dwin', 'tcprtt', 'synack', 'ackdat', 'smean',\n",
    "                   'dmean', 'trans_depth', 'response_body_len', 'ct_srv_src',\n",
    "                   'ct_state_ttl', 'ct_dst_ltm', 'ct_src_dport_ltm',\n",
    "                   'ct_dst_sport_ltm', 'ct_dst_src_ltm', 'ct_ftp_cmd',\n",
    "                   'ct_flw_http_mthd', 'ct_src_ltm', 'ct_srv_dst']\n",
    "\n",
    "# 类别特征\n",
    "categorical_features = ['proto', 'service', 'state', 'is_ftp_login', 'is_sm_ips_ports']\n",
    "\n",
    "# 构建预处理管道\n",
    "numeric_transformer = Pipeline(steps=[\n",
    "    ('scaler', StandardScaler())])\n",
    "\n",
    "categorical_transformer = Pipeline(steps=[\n",
    "    ('onehot', OneHotEncoder(handle_unknown='ignore'))])\n",
    "\n",
    "preprocessor = ColumnTransformer(\n",
    "    transformers=[\n",
    "        ('num', numeric_transformer, numeric_features),\n",
    "        ('cat', categorical_transformer, categorical_features)])\n",
    "\n",
    "preprocessor"
   ]
  },
  {
   "cell_type": "markdown",
   "metadata": {},
   "source": [
    "## 4. 模型训练与评估"
   ]
  },
  {
   "cell_type": "code",
   "execution_count": null,
   "metadata": {},
   "outputs": [],
   "source": [
    "from sklearn.ensemble import RandomForestClassifier\n",
    "from sklearn.metrics import classification_report, accuracy_score\n",
    "\n",
    "# 构建完整模型\n",
    "model = Pipeline(steps=[\n",
    "    ('preprocessor', preprocessor),\n",
    "    ('classifier', RandomForestClassifier(\n",
    "        n_estimators=100, \n",
    "        random_state=42,\n",
    "        class_weight='balanced',\n",
    "        n_jobs=-1))])\n",
    "\n",
    "# 训练模型\n",
    "model.fit(X_train, y_train)\n",
    "print(\"模型训练完成!\")"
   ]
  },
  {
   "cell_type": "markdown",
   "metadata": {},
   "source": [
    "### 模型评估"
   ]
  },
  {
   "cell_type": "code",
   "execution_count": null,
   "metadata": {},
   "outputs": [],
   "source": [
    "# 预测测试集\n",
    "y_pred = model.predict(X_test)\n",
    "\n",
    "# 分类报告\n",
    "print(\"\\n=== 分类报告 ===\")\n",
    "print(classification_report(y_test, y_pred))\n",
    "\n",
    "# 准确率\n",
    "print(\"\\n=== 准确率 ===\")\n",
    "print(f\"准确率: {accuracy_score(y_test, y_pred):.4f}\")"
   ]
  },
  {
   "cell_type": "markdown",
   "metadata": {},
   "source": [
    "### 特征重要性"
   ]
  },
  {
   "cell_type": "code",
   "execution_count": null,
   "metadata": {},
   "outputs": [],
   "source": [
    "# 获取特征重要性\n",
    "importances = model.named_steps['classifier'].feature_importances_\n",
    "\n",
    "# 获取特征名称\n",
    "numeric_features = model.named_steps['preprocessor'].transformers_[0][2]\n",
    "categorical_features = model.named_steps['preprocessor'].transformers_[1][2]\n",
    "\n",
    "# 处理onehot编码后的特征名\n",
    "ohe = model.named_steps['preprocessor'].transformers_[1][1].named_steps['onehot']\n",
    "cat_feature_names = ohe.get_feature_names_out(input_features=categorical_features)\n",
    "\n",
    "all_feature_names = np.concatenate([numeric_features, cat_feature_names])\n",
    "\n",
    "# 创建特征重要性DataFrame\n",
    "feature_imp = pd.DataFrame({\n",
    "    'feature': all_feature_names,\n",
    "    'importance': importances\n",
    "}).sort_values('importance', ascending=False)\n",
    "\n",
    "# 可视化前20个重要特征\n",
    "plt.figure(figsize=(10,8))\n",
    "sns.barplot(data=feature_imp.head(20), x='importance', y='feature')\n",
    "plt.title('Top 20 重要特征')\n",
    "plt.show()"
   ]
  },
  {
   "cell_type": "markdown",
   "metadata": {},
   "source": [
    "## 5. 模型保存"
   ]
  },
  {
   "cell_type": "code",
   "execution_count": null,
   "metadata": {},
   "outputs": [],
   "source": [
    "import joblib\n",
    "\n",
    "# 保存模型\n",
    "joblib.dump(model, 'traffic_model.pkl')\n",
    "print(\"\\n模型已保存为 traffic_model.pkl\")"
   ]
  }
 ],
 "metadata": {
  "kernelspec": {
   "display_name": "Python 3",
   "language": "python",
   "name": "python3"
  },
  "language_info": {
   "codemirror_mode": {
    "name": "ipython",
    "version": 3
   },
   "file_extension": ".py",
   "mimetype": "text/x-python",
   "name": "python",
   "nbconvert_exporter": "python",
   "pygments_lexer": "ipython3",
   "version": "3.8.5"
  }
 },
 "nbformat": 4,
 "nbformat_minor": 4
}
